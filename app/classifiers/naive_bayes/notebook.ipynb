{
 "cells": [
  {
   "cell_type": "code",
   "execution_count": 1,
   "source": [
    "import numpy as np\n",
    "import pandas as pd\n",
    "from sklearn.feature_extraction.text import CountVectorizer\n",
    "from sklearn.naive_bayes import MultinomialNB\n",
    "from sklearn.model_selection import train_test_split, KFold\n",
    "from sklearn.metrics import accuracy_score, confusion_matrix, plot_confusion_matrix"
   ],
   "outputs": [],
   "metadata": {}
  },
  {
   "cell_type": "code",
   "execution_count": 2,
   "source": [
    "# load data\n",
    "\n",
    "df = pd.read_csv(\"/Users/kakeng/Documents/education/MLLab/SpamClassifier/complete_spam_assassin.csv\")\n",
    "df = df[['Body', 'Label']]\n",
    "\n",
    "df2 = pd.read_csv(\"/Users/kakeng/Documents/education/MLLab/SpamClassifier/spam_ham_dataset.csv\")\n",
    "df2.rename(columns={'label_num': 'Label', 'text': 'Body'}, inplace=True)\n",
    "df2 = df2[['Body', 'Label']]\n",
    "\n",
    "df = pd.concat([df, df2])\n",
    "df.reset_index(drop=True, inplace=True)\n",
    "\n",
    "df.head()"
   ],
   "outputs": [
    {
     "output_type": "execute_result",
     "data": {
      "text/html": [
       "<div>\n",
       "<style scoped>\n",
       "    .dataframe tbody tr th:only-of-type {\n",
       "        vertical-align: middle;\n",
       "    }\n",
       "\n",
       "    .dataframe tbody tr th {\n",
       "        vertical-align: top;\n",
       "    }\n",
       "\n",
       "    .dataframe thead th {\n",
       "        text-align: right;\n",
       "    }\n",
       "</style>\n",
       "<table border=\"1\" class=\"dataframe\">\n",
       "  <thead>\n",
       "    <tr style=\"text-align: right;\">\n",
       "      <th></th>\n",
       "      <th>Body</th>\n",
       "      <th>Label</th>\n",
       "    </tr>\n",
       "  </thead>\n",
       "  <tbody>\n",
       "    <tr>\n",
       "      <th>0</th>\n",
       "      <td>\\nSave up to 70% on Life Insurance.\\nWhy Spend...</td>\n",
       "      <td>1</td>\n",
       "    </tr>\n",
       "    <tr>\n",
       "      <th>1</th>\n",
       "      <td>1) Fight The Risk of Cancer!\\nhttp://www.adcli...</td>\n",
       "      <td>1</td>\n",
       "    </tr>\n",
       "    <tr>\n",
       "      <th>2</th>\n",
       "      <td>1) Fight The Risk of Cancer!\\nhttp://www.adcli...</td>\n",
       "      <td>1</td>\n",
       "    </tr>\n",
       "    <tr>\n",
       "      <th>3</th>\n",
       "      <td>##############################################...</td>\n",
       "      <td>1</td>\n",
       "    </tr>\n",
       "    <tr>\n",
       "      <th>4</th>\n",
       "      <td>I thought you might like these:\\n1) Slim Down ...</td>\n",
       "      <td>1</td>\n",
       "    </tr>\n",
       "  </tbody>\n",
       "</table>\n",
       "</div>"
      ],
      "text/plain": [
       "                                                Body  Label\n",
       "0  \\nSave up to 70% on Life Insurance.\\nWhy Spend...      1\n",
       "1  1) Fight The Risk of Cancer!\\nhttp://www.adcli...      1\n",
       "2  1) Fight The Risk of Cancer!\\nhttp://www.adcli...      1\n",
       "3  ##############################################...      1\n",
       "4  I thought you might like these:\\n1) Slim Down ...      1"
      ]
     },
     "metadata": {},
     "execution_count": 2
    }
   ],
   "metadata": {}
  },
  {
   "cell_type": "code",
   "execution_count": 3,
   "source": [
    "# data preprocessing\n",
    "\n",
    "from nltk import word_tokenize\n",
    "from nltk.corpus import stopwords\n",
    "import string\n",
    "\n",
    "df.dropna(inplace=True)\n",
    "df = df[df['Body'] != 'empty']\n",
    "df = df[df['Body'].apply(lambda x: type(x) == str)]\n",
    "\n",
    "def cleanup(sentence):\n",
    "    words = word_tokenize(sentence.lower())\n",
    "    stops = set(stopwords.words('english') + list(string.punctuation))\n",
    "    return \" \".join([word for word in words if word not in stops])\n",
    "\n",
    "df['Body'] = df['Body'].apply(cleanup)\n",
    "\n",
    "df.head()"
   ],
   "outputs": [
    {
     "output_type": "execute_result",
     "data": {
      "text/html": [
       "<div>\n",
       "<style scoped>\n",
       "    .dataframe tbody tr th:only-of-type {\n",
       "        vertical-align: middle;\n",
       "    }\n",
       "\n",
       "    .dataframe tbody tr th {\n",
       "        vertical-align: top;\n",
       "    }\n",
       "\n",
       "    .dataframe thead th {\n",
       "        text-align: right;\n",
       "    }\n",
       "</style>\n",
       "<table border=\"1\" class=\"dataframe\">\n",
       "  <thead>\n",
       "    <tr style=\"text-align: right;\">\n",
       "      <th></th>\n",
       "      <th>Body</th>\n",
       "      <th>Label</th>\n",
       "    </tr>\n",
       "  </thead>\n",
       "  <tbody>\n",
       "    <tr>\n",
       "      <th>0</th>\n",
       "      <td>save 70 life insurance spend life quote saving...</td>\n",
       "      <td>1</td>\n",
       "    </tr>\n",
       "    <tr>\n",
       "      <th>1</th>\n",
       "      <td>1 fight risk cancer http //www.adclick.ws/p.cf...</td>\n",
       "      <td>1</td>\n",
       "    </tr>\n",
       "    <tr>\n",
       "      <th>2</th>\n",
       "      <td>1 fight risk cancer http //www.adclick.ws/p.cf...</td>\n",
       "      <td>1</td>\n",
       "    </tr>\n",
       "    <tr>\n",
       "      <th>3</th>\n",
       "      <td>adult club offers free membership instant acce...</td>\n",
       "      <td>1</td>\n",
       "    </tr>\n",
       "    <tr>\n",
       "      <th>4</th>\n",
       "      <td>thought might like 1 slim guaranteed lose 10-1...</td>\n",
       "      <td>1</td>\n",
       "    </tr>\n",
       "  </tbody>\n",
       "</table>\n",
       "</div>"
      ],
      "text/plain": [
       "                                                Body  Label\n",
       "0  save 70 life insurance spend life quote saving...      1\n",
       "1  1 fight risk cancer http //www.adclick.ws/p.cf...      1\n",
       "2  1 fight risk cancer http //www.adclick.ws/p.cf...      1\n",
       "3  adult club offers free membership instant acce...      1\n",
       "4  thought might like 1 slim guaranteed lose 10-1...      1"
      ]
     },
     "metadata": {},
     "execution_count": 3
    }
   ],
   "metadata": {}
  },
  {
   "cell_type": "code",
   "execution_count": 4,
   "source": [
    "def get_classifier(vectorizer, X_train, y_train):\n",
    "\n",
    "    X_train_vectorized = vectorizer.fit_transform(X_train.values.astype(str))\n",
    "\n",
    "    classifier = MultinomialNB()\n",
    "\n",
    "    classifier.fit(X_train_vectorized, y_train)\n",
    "    \n",
    "    return classifier"
   ],
   "outputs": [],
   "metadata": {}
  },
  {
   "cell_type": "code",
   "execution_count": 8,
   "source": [
    "# cross validation\n",
    "\n",
    "X = df[\"Body\"]\n",
    "y = df[\"Label\"]\n",
    "\n",
    "kfold = KFold()\n",
    "\n",
    "scores = []\n",
    "\n",
    "for train_indexes, test_indexes in kfold.split(X):\n",
    "    \n",
    "    vectorizer = CountVectorizer()\n",
    "    \n",
    "    classifier = get_classifier(vectorizer, X.iloc[train_indexes], y.iloc[train_indexes])\n",
    "    \n",
    "    X_test = vectorizer.transform(X.iloc[test_indexes].values.astype(str))\n",
    "    y_test = y.iloc[test_indexes]\n",
    "    \n",
    "    score = classifier.score(X_test, y_test)\n",
    "    \n",
    "    print(\"Accuracy:\", score)\n",
    "    \n",
    "    scores.append(score)\n",
    "    \n",
    "print(\"Mean accuracy: \", np.mean(scores))"
   ],
   "outputs": [
    {
     "output_type": "stream",
     "name": "stdout",
     "text": [
      "Accuracy: 0.4763687412260178\n",
      "Accuracy: 0.986897519887693\n",
      "Accuracy: 0.9241927936359382\n",
      "Accuracy: 0.9452247191011236\n",
      "Accuracy: 0.9499063670411985\n",
      "Mean accuracy:  0.8565180281783942\n"
     ]
    }
   ],
   "metadata": {}
  },
  {
   "cell_type": "code",
   "execution_count": 6,
   "source": [
    "# train model\n",
    "\n",
    "vectorizer = CountVectorizer()\n",
    "\n",
    "X_vectorized = vectorizer.fit_transform(X.values.astype(str))\n",
    "\n",
    "classifier = MultinomialNB()\n",
    "\n",
    "classifier.fit(X_vectorized, y)"
   ],
   "outputs": [
    {
     "output_type": "execute_result",
     "data": {
      "text/plain": [
       "MultinomialNB()"
      ]
     },
     "metadata": {},
     "execution_count": 6
    }
   ],
   "metadata": {}
  },
  {
   "cell_type": "code",
   "execution_count": 7,
   "source": [
    "# save model\n",
    "\n",
    "import pickle\n",
    "\n",
    "with open('vectorizer.pkl', 'wb') as file:\n",
    "    pickle.dump(vectorizer, file)\n",
    "\n",
    "with open('classifier.pkl', 'wb') as file:\n",
    "    pickle.dump(classifier, file)"
   ],
   "outputs": [],
   "metadata": {}
  }
 ],
 "metadata": {
  "orig_nbformat": 4,
  "language_info": {
   "name": "python",
   "version": "3.8.11",
   "mimetype": "text/x-python",
   "codemirror_mode": {
    "name": "ipython",
    "version": 3
   },
   "pygments_lexer": "ipython3",
   "nbconvert_exporter": "python",
   "file_extension": ".py"
  },
  "kernelspec": {
   "name": "python3",
   "display_name": "Python 3.8.11 64-bit (conda)"
  },
  "interpreter": {
   "hash": "c9a8a0456b2f31fb66b156001bcb92d73ff76cc8249d2fa2e1656f7c770cc819"
  }
 },
 "nbformat": 4,
 "nbformat_minor": 2
}